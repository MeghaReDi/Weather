#Weather information using API
import requests  #requests module allows to send http request
cityname=input("please enter city :  ")
number=cityname.isdigit() #checking input is integer
#input validation 
if cityname=="" or number == True :
  print("Invalid city name")
else: 
  url="https://api.openweathermap.org/data/2.5/weather?q="+cityname+"&units=metric&appid=your_api_key"
  status=requests.get(url).status_code
  # cheking status of request
  if status!=200:
         print("City Not Found")
  else:
      #storing result in response variable
         response = requests.get(url)
          #print(response)//<Response [200]>
         myData = response.json()
     #getting required properties of json data in python
         country=myData['sys']['country']
         Weather=myData['weather'][0]['main']
         Description=myData['weather'][0]['description']
         temp1=myData['main']['temp']
         feelLike=myData['main']['feels_like']
         Humidity=myData['main']['humidity']
         windspeed=myData['wind']['speed']
     #displaying these variables
         print("Country is  " + country)
         print("Weather is  "+ Weather)
         print("weather Description is  "+ Description)
         print("Temprecture is  "+ str(temp1)+'\N{DEGREE SIGN}'+"C")
         print("Feels Like  " + str(feelLike))
         print("Wind  speed is  "+str(windspeed))
         print("Humidity is " +str(Humidity))

